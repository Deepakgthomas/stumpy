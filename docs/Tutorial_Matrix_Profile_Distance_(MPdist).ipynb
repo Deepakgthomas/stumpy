{
 "cells": [
  {
   "cell_type": "markdown",
   "metadata": {},
   "source": [
    "# Tutorial 4 - MPdist (A distance measure for real-world time series datasets)"
   ]
  },
  {
   "cell_type": "markdown",
   "metadata": {},
   "source": [
    "<div style=\"text-align: justify\">\n",
    "MPdist is a time series similarity measure developed by UCR researchers as an alternative to the widely used Eucledian distance and Dynamic Time Warping.<br><br>\n",
    "It can be optimized for speed as well as be implemented on real-world datasets that contain \"spikes, dropouts, wandering baseline and missing values$^1$.\"<br><br>\n",
    "Further details can be found by reading the paper, \"An Ultra-Fast Time Series Distance Measure to\n",
    "allow Data Mining in more Complex Real-World\n",
    "Deployments$^1$\"<br><br>"
   ]
  },
  {
   "cell_type": "code",
   "execution_count": 1,
   "metadata": {
    "colab": {
     "base_uri": "https://localhost:8080/",
     "height": 350
    },
    "colab_type": "code",
    "id": "dIELVtil05oM",
    "outputId": "20c7832a-d59e-4496-f70d-03b41fd48573"
   },
   "outputs": [],
   "source": [
    "#Install all the libraries\n",
    "import numba\n",
    "import stumpy\n",
    "import numpy as np\n",
    "import pandas as pd"
   ]
  },
  {
   "cell_type": "code",
   "execution_count": 2,
   "metadata": {},
   "outputs": [],
   "source": [
    "#Data Preprocessing Step\n",
    "def MPdist(t1,t2):\n",
    "    #t1 -> Time series 1\n",
    "    #t2 -> Time series 2\n",
    "    #sub -> subsequence length\n",
    "    if t1.ndim!=1 or t2.ndim!=1:\n",
    "        raise Exception ('t1 & t2 should be univariate series with dimensions equalling 1')\n",
    "    return t1,t2"
   ]
  },
  {
   "cell_type": "markdown",
   "metadata": {},
   "source": [
    "<div style=\"text-align: justify\">\n",
    "The basis of this similarity measure is the matrix profile. This is an array that contains the z-normalized Eucledian distance between a time series subsequence with its nearest neighbour. A facile and quick implementation of the Matrix Profile is possible using the stumpy library (read tutorial_1). <br><br>\n",
    "\n",
    "The function mat_join takes in 2 time series ($t_{1}$ & $t_{2}$) as arguments and calculates the distance between all  subsequences in $t_{1}$ with its nearest neighbours in $t_{2}$ (AB). It also calculates the distance between every subsequence in $t_{2}$ with its nearest neighbour in $t_{1}$ (BA). <br><br>\n",
    "\n",
    "The final step consists of generating an array from the two distance profiles created (AB & BA) by concatenating them together $(P_{ABBA})$ <br><br>\n",
    "\n",
    "The authors of the MPdist paper reasoned that two similar time series will possess multiple similar subsequences within them. This information can be easily extraced from the matrix profile $(P_{ABBA})$ and therefore one of the values of $(P_{ABBA})$ could be used to develop the distance measure. <br><br>\n",
    "\n",
    "\n",
    "\n"
   ]
  },
  {
   "cell_type": "code",
   "execution_count": 12,
   "metadata": {
    "colab": {},
    "colab_type": "code",
    "id": "eUq04N774v65"
   },
   "outputs": [],
   "source": [
    "def mat_join(t1,t2):\n",
    "    m=7\n",
    "    t1,t2=MPdist(t1,t2)\n",
    "    AB=stumpy.stump(t1, m, T_B=t2, ignore_trivial=True)\n",
    "    BA=stumpy.stump(t2, m, T_B=t1, ignore_trivial=True)\n",
    "    PABBA=np.concatenate((AB, BA), axis=0)\n",
    "    return t1,t2,PABBA"
   ]
  },
  {
   "cell_type": "markdown",
   "metadata": {},
   "source": [
    "<div style=\"text-align: justify\">\n",
    "However the question arises, \"what value of $P_{ABBA}$ would best serve as our distance measure?\" The largest value in $P_{ABBA}$ would make the measure sensitive to the slightest outlier in either of the time series. Whereas, the smallest value would essentially consider all time series to be the same irrespective of their attributes. Therefore, the $k^{th}$ smallest number in $sorted$ $P_{ABBA}$ was taken to be the value of MPdist. The authors set this value as 5 percent of sum of the length of both time series.<br><br>\n",
    "However, if the length of the subsequence extracted for comparision via sliding window (for more details, refer tutorial_0) is near the length of the concatenated series, then the $P_{ABBA}$ length reduces lower than 5% of the concatenated length.During such cases, the paper considers the MPdist to equal the maximum value of $sorted$ $P_{ABBA}$."
   ]
  },
  {
   "cell_type": "code",
   "execution_count": 13,
   "metadata": {
    "colab": {},
    "colab_type": "code",
    "id": "QL2-nel65M9e"
   },
   "outputs": [],
   "source": [
    "def calc_MPdist(t1,t2):\n",
    "    thr = 0.05\n",
    "    t1,t2,PABBA=mat_join(t1,t2)\n",
    "    k=int(thr*(t1.size+t2.size))\n",
    "    PABBA_sorted=np.sort(PABBA)\n",
    "    if PABBA_sorted.size>k:\n",
    "        MPdist=PABBA_sorted[k]\n",
    "    else:\n",
    "        MPdist=PABBA_sorted[-1]\n",
    "    return MPdist"
   ]
  },
  {
   "cell_type": "code",
   "execution_count": 14,
   "metadata": {
    "colab": {
     "base_uri": "https://localhost:8080/",
     "height": 346
    },
    "colab_type": "code",
    "id": "wspuM4UP_VNF",
    "outputId": "292049be-73fe-4986-c539-9d8ac882d2a2"
   },
   "outputs": [
    {
     "data": {
      "text/plain": [
       "array([-1, -1, 0, inf], dtype=object)"
      ]
     },
     "execution_count": 14,
     "metadata": {},
     "output_type": "execute_result"
    }
   ],
   "source": [
    "t1=np.array([1.0,2,3,4,5,6,6])\n",
    "t2=np.array([1.0,2,3,4,5,6,6])\n",
    "calc_MPdist(t1,t2)"
   ]
  },
  {
   "cell_type": "markdown",
   "metadata": {},
   "source": [
    "[1]. Gharghabi, Shaghayegh, et al. \"Matrix Profile XII: MPdist: A Novel Time Series Distance Measure to Allow Data Mining in More Challenging Scenarios.\" 2018 IEEE International Conference on Data Mining (ICDM). IEEE, 2018."
   ]
  }
 ],
 "metadata": {
  "colab": {
   "collapsed_sections": [],
   "name": "Untitled3.ipynb",
   "provenance": []
  },
  "kernelspec": {
   "display_name": "Python 3",
   "language": "python",
   "name": "python3"
  },
  "language_info": {
   "codemirror_mode": {
    "name": "ipython",
    "version": 3
   },
   "file_extension": ".py",
   "mimetype": "text/x-python",
   "name": "python",
   "nbconvert_exporter": "python",
   "pygments_lexer": "ipython3",
   "version": "3.7.3"
  }
 },
 "nbformat": 4,
 "nbformat_minor": 1
}
